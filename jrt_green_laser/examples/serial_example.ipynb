{
 "cells": [
  {
   "cell_type": "markdown",
   "metadata": {},
   "source": [
    "### Setting up the laser module"
   ]
  },
  {
   "cell_type": "code",
   "execution_count": 2,
   "metadata": {},
   "outputs": [],
   "source": [
    "from laser_serial import Laser\n",
    "from time import sleep"
   ]
  },
  {
   "cell_type": "code",
   "execution_count": 3,
   "metadata": {},
   "outputs": [
    {
     "name": "stdout",
     "output_type": "stream",
     "text": [
      "Setting RTS\n",
      "Module Bootup: STARTING\n",
      "Module Bootup: COMPLETE \n",
      "\n"
     ]
    }
   ],
   "source": [
    "port = \"/dev/ttyUSB0\"\n",
    "laser = Laser(port, debug=False)"
   ]
  },
  {
   "cell_type": "code",
   "execution_count": 4,
   "metadata": {},
   "outputs": [
    {
     "name": "stdout",
     "output_type": "stream",
     "text": [
      "Checking Status\n",
      "Status Code: No error \n",
      "\n",
      "Distance: 55.4 cm, Quality: 110\n",
      "Distance: 55.3 cm, Quality: 114\n",
      "Distance: 55.3 cm, Quality: 129\n",
      "Distance: 55.4 cm, Quality: 120\n",
      "Distance: 55.4 cm, Quality: 140\n",
      "Distance: 55.4 cm, Quality: 110\n",
      "Distance: 55.4 cm, Quality: 111\n",
      "Distance: 55.5 cm, Quality: 123\n",
      "Distance: 55.4 cm, Quality: 133\n",
      "Distance: 55.3 cm, Quality: 158\n"
     ]
    }
   ],
   "source": [
    "if (laser.ser != None):\n",
    "    laser.get_status()\n",
    "\n",
    "    laser.start_continue_distance_measurement()\n",
    "\n",
    "    time = 0\n",
    "    while time < 10:\n",
    "        laser.read_measurement()\n",
    "        sleep(1)\n",
    "        time += 1\n"
   ]
  },
  {
   "cell_type": "code",
   "execution_count": null,
   "metadata": {},
   "outputs": [],
   "source": []
  }
 ],
 "metadata": {
  "kernelspec": {
   "display_name": "venv",
   "language": "python",
   "name": "python3"
  },
  "language_info": {
   "codemirror_mode": {
    "name": "ipython",
    "version": 3
   },
   "file_extension": ".py",
   "mimetype": "text/x-python",
   "name": "python",
   "nbconvert_exporter": "python",
   "pygments_lexer": "ipython3",
   "version": "3.11.2"
  }
 },
 "nbformat": 4,
 "nbformat_minor": 2
}
